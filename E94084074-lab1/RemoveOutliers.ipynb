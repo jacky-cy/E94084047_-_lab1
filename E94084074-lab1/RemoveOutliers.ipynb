{
 "cells": [
  {
   "cell_type": "code",
   "execution_count": 3,
   "id": "251d8ea0-7940-48cd-9d62-f74af3fe4e9a",
   "metadata": {},
   "outputs": [
    {
     "name": "stdin",
     "output_type": "stream",
     "text": [
      "Enter the number of smallest and largest values to remove: 2\n",
      "Enter a value (q or Q to quit): 1\n",
      "Enter a value (q or Q to quit): 2\n",
      "Enter a value (q or Q to quit): 4\n",
      "Enter a value (q or Q to quit): 5\n",
      "Enter a value (q or Q to quit): 7\n",
      "Enter a value (q or Q to quit): 8\n",
      "Enter a value (q or Q to quit): 9\n",
      "Enter a value (q or Q to quit): -1\n",
      "Enter a value (q or Q to quit): q\n"
     ]
    },
    {
     "name": "stdout",
     "output_type": "stream",
     "text": [
      "The original data: [1, 2, 4, 5, 7, 8, 9, -1]\n",
      "The data with the outliers removed [2, 4, 5, 7]\n",
      "The outliers: [-1, 1, 8, 9]\n"
     ]
    }
   ],
   "source": [
    "remove=int(input(\"Enter the number of smallest and largest values to remove:\"))\n",
    "                            \n",
    "list1=[]                   ##insert to list1\n",
    "\n",
    "while True:\n",
    "    s=(input(\"Enter a value (q or Q to quit):\"))\n",
    "    if s!='q' and s!='Q':\n",
    "        list1.append(int(s))\n",
    "    else :\n",
    "        break\n",
    "def remove_outliers(remove,list1):                       ##use function to realize take out extreme value\n",
    "    listout=[]                                             ##The outliers\n",
    "    listremove=[]                                           ##The data with the outliers removed\n",
    "    listremove.extend(list1)\n",
    "    if( 0<=remove and remove<=len(list1)/2 ):            ## prevent  remove error\n",
    "        for i in range(0,remove):\n",
    "        \n",
    "            listout.append(int(max(listremove)))             ##take out the maximum\n",
    "            listout.append(int(min(listremove)))             ##take out the minimum\n",
    "            listremove.remove(int(max(listremove)))           ##add the maximum\n",
    "            listremove.remove(int(min(listremove)))           ##add the mimimum\n",
    "            listremove.sort()\n",
    "            listout.sort()\n",
    "        \n",
    "    else:\n",
    "        print('your remove is bigger than you enter')     ## prevent  remove error\n",
    "        \n",
    "    return listout,listremove                               \n",
    "      \n",
    "    \n",
    "    \n",
    "print(\"The original data:\",list1)\n",
    "print(\"The data with the outliers removed\",remove_outliers(remove,list1)[1])\n",
    "print(\"The outliers:\",remove_outliers(remove,list1)[0])"
   ]
  },
  {
   "cell_type": "code",
   "execution_count": null,
   "id": "9a185bd8-cb19-4728-b722-75df9ba35d53",
   "metadata": {},
   "outputs": [],
   "source": []
  },
  {
   "cell_type": "code",
   "execution_count": null,
   "id": "39f9832a-46df-4854-bc68-353f450ed0e8",
   "metadata": {},
   "outputs": [],
   "source": []
  }
 ],
 "metadata": {
  "kernelspec": {
   "display_name": "Python 3",
   "language": "python",
   "name": "python3"
  },
  "language_info": {
   "codemirror_mode": {
    "name": "ipython",
    "version": 3
   },
   "file_extension": ".py",
   "mimetype": "text/x-python",
   "name": "python",
   "nbconvert_exporter": "python",
   "pygments_lexer": "ipython3",
   "version": "3.8.8"
  }
 },
 "nbformat": 4,
 "nbformat_minor": 5
}
