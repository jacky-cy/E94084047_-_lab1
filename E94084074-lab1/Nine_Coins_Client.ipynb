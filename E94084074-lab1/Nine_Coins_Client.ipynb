{
 "cells": [
  {
   "cell_type": "code",
   "execution_count": 1,
   "id": "6d6b85d0-7148-4cd9-a49a-867881919b27",
   "metadata": {},
   "outputs": [],
   "source": [
    "from nine_coins import Nine_Coins"
   ]
  },
  {
   "cell_type": "code",
   "execution_count": 2,
   "id": "04fd0975-9350-4578-acc4-24074f133ace",
   "metadata": {},
   "outputs": [],
   "source": [
    "c=Nine_Coins(7) "
   ]
  },
  {
   "cell_type": "code",
   "execution_count": 3,
   "id": "39c10845-4e06-4c33-be79-dc7b7555e76a",
   "metadata": {},
   "outputs": [
    {
     "name": "stdout",
     "output_type": "stream",
     "text": [
      "Nine_Coins: HHHHHHTTT"
     ]
    },
    {
     "data": {
      "text/plain": []
     },
     "execution_count": 3,
     "metadata": {},
     "output_type": "execute_result"
    }
   ],
   "source": [
    "c"
   ]
  },
  {
   "cell_type": "code",
   "execution_count": 4,
   "id": "9ed4e760-dd3d-4fb8-8b41-fe1313e192a7",
   "metadata": {},
   "outputs": [
    {
     "name": "stdout",
     "output_type": "stream",
     "text": [
      "binary: 000000111  and  decimal: 7\n"
     ]
    }
   ],
   "source": [
    "print(c)"
   ]
  },
  {
   "cell_type": "code",
   "execution_count": 5,
   "id": "0eee5d4b-0cc5-4110-a2bd-7b992616ceac",
   "metadata": {},
   "outputs": [],
   "source": [
    "c.toss()"
   ]
  },
  {
   "cell_type": "code",
   "execution_count": 6,
   "id": "01035bac-3a85-4580-b4a2-ced6211f1a32",
   "metadata": {},
   "outputs": [
    {
     "name": "stdout",
     "output_type": "stream",
     "text": [
      "Nine_Coins: HHTHTHHTH"
     ]
    },
    {
     "data": {
      "text/plain": []
     },
     "execution_count": 6,
     "metadata": {},
     "output_type": "execute_result"
    }
   ],
   "source": [
    "c"
   ]
  },
  {
   "cell_type": "code",
   "execution_count": 7,
   "id": "3d7d8048-c428-4880-af2d-7d747aaca8dd",
   "metadata": {},
   "outputs": [
    {
     "name": "stdout",
     "output_type": "stream",
     "text": [
      "binary: 001010010  and  decimal: 82\n"
     ]
    }
   ],
   "source": [
    "print(c)"
   ]
  },
  {
   "cell_type": "code",
   "execution_count": 8,
   "id": "5b6dafcb-0ed2-4876-91f2-166117fa0102",
   "metadata": {},
   "outputs": [],
   "source": [
    "c.toss()"
   ]
  },
  {
   "cell_type": "code",
   "execution_count": 9,
   "id": "cffa0777-92f3-42c6-9316-9f8e11953318",
   "metadata": {},
   "outputs": [
    {
     "name": "stdout",
     "output_type": "stream",
     "text": [
      "Nine_Coins: TTHHTTHTH"
     ]
    },
    {
     "data": {
      "text/plain": []
     },
     "execution_count": 9,
     "metadata": {},
     "output_type": "execute_result"
    }
   ],
   "source": [
    "c"
   ]
  },
  {
   "cell_type": "code",
   "execution_count": 10,
   "id": "43cf9f19-80f8-4760-8397-3b32559da18d",
   "metadata": {},
   "outputs": [
    {
     "name": "stdout",
     "output_type": "stream",
     "text": [
      "binary: 110011010  and  decimal: 410\n"
     ]
    }
   ],
   "source": [
    "print(c)"
   ]
  }
 ],
 "metadata": {
  "kernelspec": {
   "display_name": "Python 3",
   "language": "python",
   "name": "python3"
  },
  "language_info": {
   "codemirror_mode": {
    "name": "ipython",
    "version": 3
   },
   "file_extension": ".py",
   "mimetype": "text/x-python",
   "name": "python",
   "nbconvert_exporter": "python",
   "pygments_lexer": "ipython3",
   "version": "3.8.8"
  }
 },
 "nbformat": 4,
 "nbformat_minor": 5
}
