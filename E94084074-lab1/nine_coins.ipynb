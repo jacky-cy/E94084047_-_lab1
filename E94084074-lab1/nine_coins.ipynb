{
 "cells": [
  {
   "cell_type": "code",
   "execution_count": 2,
   "id": "0665d1e8-3d7a-4e01-8d55-302e17725922",
   "metadata": {},
   "outputs": [],
   "source": [
    "class Nine_Coins:\n",
    "    \"\"\" Nine_Coins is to generate random nine filp coin\"\"\"\n",
    "    def __init__(self,num):                         #it's class init:(num)cna be transform into \n",
    "        self.num= \"{:09b}\".format(num)              ##binary\n",
    "        self.decimalnum=format(num,\"d\")               ##decima\n",
    "        self.randomnum=num                               ##random\n",
    "    def toss(self):                                 #toss random function to gernerate the number then transform into decimal and binary\n",
    "        from random import randint                     \n",
    "        self.randomnum=randint(0,511)\n",
    "        self.num= \"{:09b}\".format(self.rnum) \n",
    "        self.decimalnum=format(self.randomnum,\"d\")\n",
    "    def __str__(self):\n",
    "        return f'binary: {self.num}  and  decimal: {self.decimalnum}'  ##print it when use print\n",
    "    def __repr__(self):                                                ##print it when not use print\n",
    "        print(\"Nine_Coins:\",end=' ')\n",
    "        for i in range(9):\n",
    "            if self.num[i]=='0':\n",
    "                print('H',end=\"\")\n",
    "            else:\n",
    "                print('T',end=\"\")\n",
    "        return  f\"\\n\"\n",
    "            \n",
    "\n"
   ]
  },
  {
   "cell_type": "code",
   "execution_count": null,
   "id": "e424e486-20f8-4e64-a5bc-2b4ee8cc8f84",
   "metadata": {},
   "outputs": [],
   "source": []
  }
 ],
 "metadata": {
  "kernelspec": {
   "display_name": "Python 3",
   "language": "python",
   "name": "python3"
  },
  "language_info": {
   "codemirror_mode": {
    "name": "ipython",
    "version": 3
   },
   "file_extension": ".py",
   "mimetype": "text/x-python",
   "name": "python",
   "nbconvert_exporter": "python",
   "pygments_lexer": "ipython3",
   "version": "3.8.8"
  }
 },
 "nbformat": 4,
 "nbformat_minor": 5
}
