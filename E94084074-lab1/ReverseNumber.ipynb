{
 "cells": [
  {
   "cell_type": "code",
   "execution_count": 2,
   "id": "5d578a23-5d4f-4352-b876-1f5494dc1b04",
   "metadata": {},
   "outputs": [
    {
     "name": "stdin",
     "output_type": "stream",
     "text": [
      "Enter the integer number:  0123\n"
     ]
    },
    {
     "name": "stdout",
     "output_type": "stream",
     "text": [
      "321\n"
     ]
    }
   ],
   "source": [
    "def reverse(num):                                                 ##define reverse function\n",
    "    \"\"\"reverse the number \"\"\"\n",
    "    stringnum=str(num)                                                 ##convert num into string(stringnum) can calculate it's lentgh\n",
    "    n=0\n",
    "    for i in range (1,len(stringnum)):                                 ##continuous behind zero detector:it can  detect continuous 0 behind non zero number\n",
    "        if (num%(10**i)==0):\n",
    "            n+=1\n",
    "        else:\n",
    "            break\n",
    "    \n",
    "    revs_number=0\n",
    "    while (num > 0):  \n",
    "                                                                  # Logic use // and % creat reverse number\n",
    "        \n",
    "        remainder = num % 10  \n",
    "        revs_number = (revs_number * 10) + remainder  \n",
    "        num = num // 10  \n",
    "    return print ( ( str ( 0 )  ) * n + str(revs_number) )   ##because string can concatenate so we convert revs_number into str to make 'str output'\n",
    "                  \n",
    "\n",
    "\n",
    "\n",
    "\n",
    "num = int(input(\"Enter the integer number: \"))\n",
    "reverse(num)"
   ]
  },
  {
   "cell_type": "code",
   "execution_count": 13,
   "id": "510d1946-7679-4bc9-9bff-5b2713c26947",
   "metadata": {},
   "outputs": [
    {
     "name": "stdout",
     "output_type": "stream",
     "text": [
      "1 1\n"
     ]
    }
   ],
   "source": []
  },
  {
   "cell_type": "code",
   "execution_count": null,
   "id": "3029601b-5052-4e5c-802a-5648a7237bca",
   "metadata": {},
   "outputs": [],
   "source": []
  }
 ],
 "metadata": {
  "kernelspec": {
   "display_name": "Python 3",
   "language": "python",
   "name": "python3"
  },
  "language_info": {
   "codemirror_mode": {
    "name": "ipython",
    "version": 3
   },
   "file_extension": ".py",
   "mimetype": "text/x-python",
   "name": "python",
   "nbconvert_exporter": "python",
   "pygments_lexer": "ipython3",
   "version": "3.8.8"
  }
 },
 "nbformat": 4,
 "nbformat_minor": 5
}
