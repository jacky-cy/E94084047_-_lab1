{
 "cells": [
  {
   "cell_type": "code",
   "execution_count": 8,
   "id": "caef3f9d-f99d-40bf-9db5-746203e52338",
   "metadata": {
    "tags": []
   },
   "outputs": [
    {
     "name": "stdout",
     "output_type": "stream",
     "text": [
      "Welcome to ROCK, PAPER, SCISSORS game!\n"
     ]
    },
    {
     "name": "stdin",
     "output_type": "stream",
     "text": [
      "Enter your move: (r)ock (p)aper (s)cissors p\n"
     ]
    },
    {
     "name": "stdout",
     "output_type": "stream",
     "text": [
      "PAPER versus...\n",
      "PAPER\n",
      "It is a tie!\n"
     ]
    },
    {
     "name": "stdin",
     "output_type": "stream",
     "text": [
      "Enter your move: (r)ock (p)aper (s)cissors p\n"
     ]
    },
    {
     "name": "stdout",
     "output_type": "stream",
     "text": [
      "PAPER versus...\n",
      "SCISSOR\n",
      "You lose!\n"
     ]
    },
    {
     "name": "stdin",
     "output_type": "stream",
     "text": [
      "Enter your move: (r)ock (p)aper (s)cissors p\n"
     ]
    },
    {
     "name": "stdout",
     "output_type": "stream",
     "text": [
      "PAPER versus...\n",
      "PAPER\n",
      "It is a tie!\n"
     ]
    },
    {
     "name": "stdin",
     "output_type": "stream",
     "text": [
      "Enter your move: (r)ock (p)aper (s)cissors p\n"
     ]
    },
    {
     "name": "stdout",
     "output_type": "stream",
     "text": [
      "PAPER versus...\n",
      "SCISSOR\n",
      "You lose!\n"
     ]
    },
    {
     "name": "stdin",
     "output_type": "stream",
     "text": [
      "Enter your move: (r)ock (p)aper (s)cissors p\n"
     ]
    },
    {
     "name": "stdout",
     "output_type": "stream",
     "text": [
      "PAPER versus...\n",
      "PAPER\n",
      "It is a tie!\n"
     ]
    },
    {
     "name": "stdin",
     "output_type": "stream",
     "text": [
      "Enter your move: (r)ock (p)aper (s)cissors p\n"
     ]
    },
    {
     "name": "stdout",
     "output_type": "stream",
     "text": [
      "PAPER versus...\n",
      "ROCK\n",
      "You win!\n",
      "You have 3  ties and 2 loss before your first win.\n"
     ]
    }
   ],
   "source": [
    "import random                       #  import random.randint(0,  2) to make random result\n",
    "print(\"Welcome to ROCK, PAPER, SCISSORS game!\")\n",
    "list1=['ROCK','PAPER','SCISSOR']\n",
    "lose= 0                           #insert needed parameters\n",
    "tie=0\n",
    "\n",
    "notHit = True                    #use notHit to generate don't win loop\n",
    "\n",
    "while notHit:                    #use if-elif-elif to judge this game\n",
    "    insert= input('Enter your move: (r)ock (p)aper (s)cissors')\n",
    "    if insert=='r':\n",
    "        skill='ROCK'\n",
    "    elif insert=='p':\n",
    "        skill='PAPER'\n",
    "    elif insert=='s':\n",
    "        skill='SCISSOR'\n",
    "    else:\n",
    "        print('not satisfy command,please enter again' )\n",
    "    \n",
    "    secret = random.randint(0,2)\n",
    "    \n",
    "    \n",
    "\n",
    "    if skill == list1[secret]: \n",
    "        print(skill,'versus...')\n",
    "        print(list1[secret])\n",
    "        print('It is a tie!') \n",
    "        tie+=1                 # use this to count tie\n",
    "    elif skill=='ROCK' and list1[secret]=='PAPER': \n",
    "        print(skill,'versus...')\n",
    "        print(list1[secret])\n",
    "        print('You lose!')\n",
    "        lose+=1                # use this to count lose\n",
    "    elif skill=='ROCK' and list1[secret]=='SCISSOR': \n",
    "        print(skill,'versus...')\n",
    "        print(list1[secret])\n",
    "        notHit=0\n",
    "        \n",
    "    elif skill=='PAPER' and list1[secret]=='SCISSOR': \n",
    "        print(skill,'versus...')\n",
    "        print(list1[secret])\n",
    "        print('You lose!')\n",
    "        lose+=1\n",
    "    elif skill=='PAPER' and list1[secret]=='ROCK': \n",
    "        print(skill,'versus...')\n",
    "        print(list1[secret])\n",
    "        notHit=0\n",
    "        \n",
    "    elif skill=='SCISSOR' and list1[secret]=='ROCK': \n",
    "        print(skill,'versus...')\n",
    "        print(list1[secret])\n",
    "        print('You lose!')\n",
    "        lose+=1\n",
    "    elif skill=='SCISSOR' and list1[secret]=='PAPER': \n",
    "        print(skill,'versus...')\n",
    "        print(list1[secret])\n",
    "        notHit=0\n",
    "\n",
    "if notHit==0:                           #print result if you win\n",
    "    print('You win!')\n",
    "    print('You have', tie,' ties and' , lose,'loss before your first win.')\n"
   ]
  },
  {
   "cell_type": "code",
   "execution_count": null,
   "id": "0c10e196-3a60-497a-9959-25f172af22a5",
   "metadata": {},
   "outputs": [],
   "source": []
  }
 ],
 "metadata": {
  "kernelspec": {
   "display_name": "Python 3",
   "language": "python",
   "name": "python3"
  },
  "language_info": {
   "codemirror_mode": {
    "name": "ipython",
    "version": 3
   },
   "file_extension": ".py",
   "mimetype": "text/x-python",
   "name": "python",
   "nbconvert_exporter": "python",
   "pygments_lexer": "ipython3",
   "version": "3.8.8"
  }
 },
 "nbformat": 4,
 "nbformat_minor": 5
}
